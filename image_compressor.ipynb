{
 "cells": [
  {
   "cell_type": "markdown",
   "metadata": {},
   "source": [
    "# Trabalho Prático 1\n",
    "### Matéria: Introdução a Computação Visual\n",
    "### Alunos: Luís Gustavo Costa da Silva, Matheus Marchesotti Dutra Ferraz\n",
    "### Matrículas:"
   ]
  },
  {
   "cell_type": "markdown",
   "metadata": {},
   "source": [
    " #### *Descrição*\n",
    " Abkaskdjkasjdlajflasdj"
   ]
  },
  {
   "cell_type": "code",
   "execution_count": null,
   "metadata": {},
   "outputs": [],
   "source": [
    "import numpy as np\n",
    "import cv2\n",
    "import matplotlib.pyplot as plt\n",
    "from math import log10\n",
    "import json"
   ]
  },
  {
   "cell_type": "code",
   "execution_count": null,
   "metadata": {},
   "outputs": [],
   "source": [
    "def visualize(image_matrix, title):\n",
    "    plt.title(title)\n",
    "    image_plot = plt.imshow(image_matrix)\n",
    "    plt.colorbar()\n",
    "    return"
   ]
  },
  {
   "cell_type": "code",
   "execution_count": null,
   "metadata": {},
   "outputs": [],
   "source": [
    "def psnr(matrix_i, matrix_k):\n",
    "    m, n = matrix_i.shape\n",
    "    \n",
    "    mse = 0\n",
    "    for i in range(m-1):\n",
    "        for j in range(n-1):\n",
    "            mse = mse + (matrix_i[i][j] - matrix_k[i][j])**2\n",
    "            \n",
    "    mse = mse/(m*n)\n",
    "    max_number = max(max(matrix_i))\n",
    "    psne = 10*log10(max_number**2 / mse)\n",
    "    \n",
    "    return psne"
   ]
  },
  {
   "cell_type": "code",
   "execution_count": null,
   "metadata": {},
   "outputs": [],
   "source": [
    "def compress_rate(original_image, compressed_image):\n",
    "    pixels_i, pixels_j = original_image.shape\n",
    "    compressed_pixels_i, compressed_pixels_j = compressed_image.shape\n",
    "    \n",
    "    compress_rate =  (compressed_pixels_i*compressed_pixels_j) / (pixels_i*pixels_j)\n",
    "    \n",
    "    return compress_rate"
   ]
  },
  {
   "cell_type": "code",
   "execution_count": null,
   "metadata": {},
   "outputs": [],
   "source": [
    "def subtract_matrix(image_matrix):\n",
    "    subtract_128 = lambda i: i - 128\n",
    "    vectorized_subtract_128 = np.vectorize(subtract_128)\n",
    "    subtracted_image_matrix = vectorized_subtract_128(image_matrix)\n",
    "\n",
    "    return subtracted_image_matrix"
   ]
  },
  {
   "cell_type": "code",
   "execution_count": null,
   "metadata": {},
   "outputs": [],
   "source": [
    "def add_matrix(image_matrix):\n",
    "    add_128 = lambda i: i + 128\n",
    "    vectorized_add_128 = np.vectorize(add_128)\n",
    "    added_image_matrix = vectorized_add_128(image_matrix)\n",
    "\n",
    "    return added_image_matrix"
   ]
  },
  {
   "cell_type": "code",
   "execution_count": null,
   "metadata": {},
   "outputs": [],
   "source": [
    "def add_padding(image_matrix):\n",
    "    rows, columns = image_matrix.shape\n",
    "\n",
    "    if(rows%8!=0):\n",
    "        rows -= rows%8-8\n",
    "    if(columns%8!=0):\n",
    "        columns -= columns%8-8\n",
    "        \n",
    "    padded_image = np.zeros((rows,columns))\n",
    "    padded_image[:image_matrix.shape[0],:image_matrix.shape[1]] = image_matrix\n",
    "    \n",
    "    return padded_image"
   ]
  },
  {
   "cell_type": "code",
   "execution_count": null,
   "metadata": {},
   "outputs": [],
   "source": [
    "def remove_padding(image_matrix):\n",
    "    rows, columns = original_image.shape\n",
    "    \n",
    "    unpadded_image = image_matrix[:rows, :columns]\n",
    "    \n",
    "    return unpadded_image"
   ]
  },
  {
   "cell_type": "code",
   "execution_count": null,
   "metadata": {},
   "outputs": [],
   "source": [
    "def compress(image_matrix, quantization_table):\n",
    "    padded_matrix = add_padding(image_matrix)\n",
    "    codified_matrix = np.zeros(padded_matrix.shape, dtype=int)\n",
    "\n",
    "    rows, columns = padded_matrix.shape\n",
    "    \n",
    "    for r in range(0, rows, 8):\n",
    "        for c in range(0, columns, 8):\n",
    "            submatrix = padded_matrix[r:r+8, c:c+8]\n",
    "\n",
    "            subtracted = subtract_matrix(submatrix)\n",
    "\n",
    "            dct = cv2.dct(subtracted)\n",
    "\n",
    "            quantized = np.divide(dct, quantization_table)\n",
    "            quantized = np.around(quantized, decimals=0)\n",
    "\n",
    "            codified_matrix[r:r+8, c:c+8] = quantized\n",
    "            \n",
    "    return codified_matrix"
   ]
  },
  {
   "cell_type": "code",
   "execution_count": null,
   "metadata": {},
   "outputs": [],
   "source": [
    "class HuffmanTree():\n",
    "    \n",
    "    def __init__(self, root=None, left=None, right=None):\n",
    "        self.root = root\n",
    "        self.left = left\n",
    "        self.right = right\n",
    "        \n",
    "    def getRight(self):\n",
    "        return self.right\n",
    "    \n",
    "    def getLeft(self):\n",
    "        return self.left\n",
    "    \n",
    "    def getRoot(self):\n",
    "        return self.root"
   ]
  },
  {
   "cell_type": "code",
   "execution_count": null,
   "metadata": {},
   "outputs": [],
   "source": [
    "def computeHuffman(HuffmanTree, binaryString=''):\n",
    "        \n",
    "        if type(HuffmanTree) == str:\n",
    "            return {HuffmanTree: binaryString}\n",
    "        \n",
    "        leftChild, rightChild = HuffmanTree.getLeft(), HuffmanTree.getRight()\n",
    "        catalog = {}\n",
    "        catalog.update(computeHuffman(leftChild, binaryString + '0'))\n",
    "        catalog.update(computeHuffman(rightChild, binaryString + '1'))\n",
    "        \n",
    "        return catalog"
   ]
  },
  {
   "cell_type": "code",
   "execution_count": null,
   "metadata": {},
   "outputs": [],
   "source": [
    "def calculateFrequency(matrix):\n",
    "    \n",
    "    codeArray = matrix.reshape(-1)\n",
    "    frequency = {}\n",
    "    \n",
    "    for item in codeArray:\n",
    "        item = str(item)\n",
    "        if item in frequency:\n",
    "            frequency[item] += 1\n",
    "        else:\n",
    "            frequency[item] = 1\n",
    "            \n",
    "    for key in frequency:\n",
    "        frequency[key] = float(frequency[key])/len(codeArray)\n",
    "        \n",
    "    frequency_sorted = sorted(frequency.items(), key=lambda pairs:pairs[1], reverse=True)\n",
    "    return frequency_sorted"
   ]
  },
  {
   "cell_type": "code",
   "execution_count": null,
   "metadata": {},
   "outputs": [],
   "source": [
    "def codificate(probabilityList):\n",
    "    \n",
    "    while len(probabilityList) > 1:\n",
    "        \n",
    "        (symbol_1, probability_1) = probabilityList[-1]\n",
    "        (symbol_2, probability_2) = probabilityList[-2]\n",
    "        \n",
    "        probabilityList = probabilityList[:-2]\n",
    "        \n",
    "        HuffmanRoot = HuffmanTree(None, symbol_1, symbol_2)\n",
    "        probabilityList.append((HuffmanRoot, probability_1+probability_2))\n",
    "        \n",
    "        probabilityList = sorted(probabilityList, key=lambda pairs:pairs[1], reverse=True)\n",
    "        \n",
    "    huffmanCode = computeHuffman(probabilityList[0][0])\n",
    "    \n",
    "    return huffmanCode"
   ]
  },
  {
   "cell_type": "code",
   "execution_count": null,
   "metadata": {},
   "outputs": [],
   "source": [
    "def decompress(codified_matrix, quantization_table):\n",
    "    \n",
    "    decodified_image = np.zeros(codified_matrix.shape)\n",
    "\n",
    "    rows, columns = decodified_image.shape\n",
    "    for r in range(0, rows, 8):\n",
    "        for c in range(0, columns, 8):\n",
    "            submatrix = codified_matrix[r:r+8, c:c+8]\n",
    "\n",
    "            dequantized = np.multiply(submatrix, quantization_table)\n",
    "\n",
    "            inverse_dct = cv2.idct(dequantized)\n",
    "\n",
    "            decodified = add_matrix(inverse_dct)\n",
    "            decodified = np.around(decodified, decimals=0)\n",
    "\n",
    "            decodified_image[r:r+8, c:c+8] = decodified\n",
    "\n",
    "    decodified_image = remove_padding(decodified_image)\n",
    "    \n",
    "    if(decodified_image.min()<0):\n",
    "        decodified_image -= -decodified_image.min()\n",
    "    if(decodified_image.max()>255):\n",
    "        decodified_image *= 255.0/decodified_image.max()\n",
    "    \n",
    "    return decodified_image"
   ]
  },
  {
   "cell_type": "code",
   "execution_count": null,
   "metadata": {},
   "outputs": [],
   "source": [
    "quantization_table_1 = np.array(\n",
    "    [\n",
    "        [16, 11, 10, 16, 24, 40, 51, 61],\n",
    "        [12, 12, 14, 19, 26, 58, 60, 55],\n",
    "        [14, 13, 16, 24, 40, 57, 69, 56],\n",
    "        [14, 17, 22, 29, 51, 87, 80, 62],\n",
    "        [18, 22, 37, 56, 68, 109, 103, 77],\n",
    "        [24, 35, 55, 64, 81, 104, 113, 92],\n",
    "        [49, 64, 78, 87, 103, 121, 120, 101],\n",
    "        [72, 92, 95, 98, 112, 100, 103, 99]]\n",
    ")\n",
    "quantization_table_2 = np.array(\n",
    "    [\n",
    "        [17, 18, 24, 47, 99, 99, 99, 99],\n",
    "        [18, 21, 26, 66, 99, 99, 99, 99],\n",
    "        [24, 26, 56, 99, 99, 99, 99, 99],\n",
    "        [47, 66, 99, 99, 99, 99, 99, 99],\n",
    "        [99, 99, 99, 99, 99, 99, 99, 99],\n",
    "        [99, 99, 99, 99, 99, 99, 99, 99],\n",
    "        [99, 99, 99, 99, 99, 99, 99, 99],\n",
    "        [99, 99, 99, 99, 99, 99, 99, 99]\n",
    "    ]\n",
    ")"
   ]
  },
  {
   "cell_type": "code",
   "execution_count": null,
   "metadata": {},
   "outputs": [],
   "source": [
    "# load\n",
    "original_image = cv2.imread('woman-relaxed-work.jpg',0)\n",
    "original_image"
   ]
  },
  {
   "cell_type": "code",
   "execution_count": null,
   "metadata": {},
   "outputs": [],
   "source": [
    "# visualize\n",
    "visualize(original_image, \"Original image\")"
   ]
  },
  {
   "cell_type": "code",
   "execution_count": null,
   "metadata": {},
   "outputs": [],
   "source": [
    "image_matrix = np.array(original_image)\n",
    "image_matrix"
   ]
  },
  {
   "cell_type": "code",
   "execution_count": null,
   "metadata": {},
   "outputs": [],
   "source": [
    "# compress\n",
    "compressed_image = compress(image_matrix, quantization_table_1)"
   ]
  },
  {
   "cell_type": "code",
   "execution_count": null,
   "metadata": {},
   "outputs": [],
   "source": [
    "# codificate\n",
    "frequency_matrix = calculateFrequency(compressed_image)\n",
    "huffman_code = codificate(frequency_matrix)"
   ]
  },
  {
   "cell_type": "code",
   "execution_count": null,
   "metadata": {},
   "outputs": [],
   "source": [
    "# save"
   ]
  },
  {
   "cell_type": "code",
   "execution_count": null,
   "metadata": {},
   "outputs": [],
   "source": [
    "# decompress\n",
    "decodified_image = decompress(compressed_image, quantization_table_1)"
   ]
  },
  {
   "cell_type": "code",
   "execution_count": null,
   "metadata": {},
   "outputs": [],
   "source": [
    "# visualize\n",
    "visualize(decodified_image, 'Decodified matrix')"
   ]
  },
  {
   "cell_type": "code",
   "execution_count": null,
   "metadata": {},
   "outputs": [],
   "source": [
    "# final comparisson\n",
    "\n",
    "figure = plt.figure(figsize=(30,30))\n",
    "\n",
    "ax = figure.add_subplot(1, 2, 1)\n",
    "image_plot = plt.imshow(original_image)\n",
    "ax.set_title(\"Before codification\", fontsize=28)\n",
    "\n",
    "ax = figure.add_subplot(1, 2, 2)\n",
    "image_plot = plt.imshow(decodified_image)\n",
    "ax.set_title(\"Decodified image\", fontsize=28)"
   ]
  },
  {
   "cell_type": "code",
   "execution_count": null,
   "metadata": {},
   "outputs": [],
   "source": [
    "# psnr and compress rate\n",
    "#psnr_result = psnr(original_image, decodified_image)\n",
    "#print(psnr_result)"
   ]
  },
  {
   "cell_type": "code",
   "execution_count": null,
   "metadata": {},
   "outputs": [],
   "source": []
  }
 ],
 "metadata": {
  "kernelspec": {
   "display_name": "Python 3",
   "language": "python",
   "name": "python3"
  },
  "language_info": {
   "codemirror_mode": {
    "name": "ipython",
    "version": 3
   },
   "file_extension": ".py",
   "mimetype": "text/x-python",
   "name": "python",
   "nbconvert_exporter": "python",
   "pygments_lexer": "ipython3",
   "version": "3.8.5"
  }
 },
 "nbformat": 4,
 "nbformat_minor": 4
}
