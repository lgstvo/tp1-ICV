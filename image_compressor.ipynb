{
 "cells": [
  {
   "cell_type": "markdown",
   "metadata": {},
   "source": [
    "# Trabalho Prático 1\n",
    "### Matéria: Introdução a Computação Visual\n",
    "### Alunos: Luís Gustavo Costa da Silva, Matheus Marchesotti Dutra Ferraz\n",
    "### Matrículas:"
   ]
  },
  {
   "cell_type": "markdown",
   "metadata": {},
   "source": [
    " #### *Descrição*\n",
    " Abkaskdjkasjdlajflasdj"
   ]
  },
  {
   "cell_type": "code",
   "execution_count": 3,
   "metadata": {},
   "outputs": [],
   "source": [
    "import numpy\n",
    "import cv2\n",
    "import matplotlib.pyplot as plt\n",
    "from math import log10"
   ]
  },
  {
   "cell_type": "code",
   "execution_count": null,
   "metadata": {},
   "outputs": [],
   "source": [
    "def visualize(image_matrix, title):\n",
    "    plt.title(title)\n",
    "    image_plot = plt.imshow(image_matrix)\n",
    "    plt.colorbar()\n",
    "    return True"
   ]
  },
  {
   "cell_type": "code",
   "execution_count": null,
   "metadata": {},
   "outputs": [],
   "source": [
    "def compress():\n",
    "    \n",
    "    return"
   ]
  },
  {
   "cell_type": "code",
   "execution_count": null,
   "metadata": {},
   "outputs": [],
   "source": [
    "def decompress():\n",
    "    \n",
    "    return"
   ]
  },
  {
   "cell_type": "code",
   "execution_count": null,
   "metadata": {},
   "outputs": [],
   "source": [
    "def psnr(matrix_i, matrix_k):\n",
    "    m, n = matrix.shape()\n",
    "    \n",
    "    mse = 0\n",
    "    for i in range(m-1):\n",
    "        for j in range(n-1):\n",
    "            mse = mse + (matrix_i[i][j] - matrix_k[i][j])**2\n",
    "            \n",
    "    mse = mse/(m*n)\n",
    "    max_number = max(max(matrix_i))\n",
    "    psne = 10*log10(max_number**2 / mse)\n",
    "    \n",
    "    return psne"
   ]
  },
  {
   "cell_type": "code",
   "execution_count": null,
   "metadata": {},
   "outputs": [],
   "source": [
    "def compress_rate(original_image, compressed_image):\n",
    "    pixels_i, pixels_j = original_image.shape\n",
    "    compressed_pixels_i, compressed_pixels_j = compressed_image.shape\n",
    "    \n",
    "    compress_rate =  (compressed_pixels_i*compressed_pixels_j) / (pixels_i*pixels_j)\n",
    "    \n",
    "    return compress_rate"
   ]
  },
  {
   "cell_type": "code",
   "execution_count": null,
   "metadata": {},
   "outputs": [],
   "source": [
    "# load"
   ]
  },
  {
   "cell_type": "code",
   "execution_count": null,
   "metadata": {},
   "outputs": [],
   "source": [
    "# visualize"
   ]
  },
  {
   "cell_type": "code",
   "execution_count": null,
   "metadata": {},
   "outputs": [],
   "source": [
    "# compress"
   ]
  },
  {
   "cell_type": "code",
   "execution_count": null,
   "metadata": {},
   "outputs": [],
   "source": [
    "# save"
   ]
  },
  {
   "cell_type": "code",
   "execution_count": null,
   "metadata": {},
   "outputs": [],
   "source": [
    "# visualize"
   ]
  },
  {
   "cell_type": "code",
   "execution_count": null,
   "metadata": {},
   "outputs": [],
   "source": [
    "# decompress"
   ]
  },
  {
   "cell_type": "code",
   "execution_count": null,
   "metadata": {},
   "outputs": [],
   "source": [
    "# visualize"
   ]
  },
  {
   "cell_type": "code",
   "execution_count": null,
   "metadata": {},
   "outputs": [],
   "source": [
    "# psnr and compress rate"
   ]
  },
  {
   "cell_type": "code",
   "execution_count": null,
   "metadata": {},
   "outputs": [],
   "source": [
    "# final comparisson\n",
    "\n",
    "figure = plt.figure()\n",
    "\n",
    "ax = figure.add_subplot(1, 3, 1)\n",
    "image_plot = plt.imshow(original_image)\n",
    "ax.set_title(\"Before compression\")\n",
    "\n",
    "ax = figure.add_subplot(1, 3, 2)\n",
    "image_plot = plt.imshow(compressed_image)\n",
    "ax.set_title(\"Compressed image\")\n",
    "\n",
    "ax = figure.add_subplot(1, 3, 3)\n",
    "image_plot = plt.imshow(decompressed_image)\n",
    "ax.set_title(\"Decompressed image\")"
   ]
  }
 ],
 "metadata": {
  "kernelspec": {
   "display_name": "Python 3",
   "language": "python",
   "name": "python3"
  },
  "language_info": {
   "codemirror_mode": {
    "name": "ipython",
    "version": 3
   },
   "file_extension": ".py",
   "mimetype": "text/x-python",
   "name": "python",
   "nbconvert_exporter": "python",
   "pygments_lexer": "ipython3",
   "version": "3.8.5"
  }
 },
 "nbformat": 4,
 "nbformat_minor": 4
}
