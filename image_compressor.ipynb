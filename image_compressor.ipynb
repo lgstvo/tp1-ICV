{
 "cells": [
  {
   "cell_type": "markdown",
   "metadata": {},
   "source": [
    "# Trabalho Prático 1\n",
    "### Matéria: Introdução a Computação Visual\n",
    "### Alunos: Luís Gustavo Costa da Silva, Matheus Marchesotti Dutra Ferraz\n",
    "### Matrículas:"
   ]
  },
  {
   "cell_type": "markdown",
   "metadata": {},
   "source": [
    " #### *Descrição*\n",
    " Abkaskdjkasjdlajflasdj"
   ]
  },
  {
   "cell_type": "code",
   "execution_count": 15,
   "metadata": {},
   "outputs": [],
   "source": [
    "import numpy\n",
    "import cv2\n",
    "import matplotlib.pyplot as plt\n",
    "from math import log10\n",
    "import urllib.request"
   ]
  },
  {
   "cell_type": "code",
   "execution_count": 2,
   "metadata": {},
   "outputs": [],
   "source": [
    "def visualize(image_matrix, title):\n",
    "    plt.title(title)\n",
    "    image_plot = plt.imshow(image_matrix)\n",
    "    plt.colorbar()\n",
    "    return True"
   ]
  },
  {
   "cell_type": "code",
   "execution_count": 3,
   "metadata": {},
   "outputs": [],
   "source": [
    "def compress():\n",
    "    \n",
    "    return"
   ]
  },
  {
   "cell_type": "code",
   "execution_count": 4,
   "metadata": {},
   "outputs": [],
   "source": [
    "def decompress():\n",
    "    \n",
    "    return"
   ]
  },
  {
   "cell_type": "code",
   "execution_count": null,
   "metadata": {},
   "outputs": [],
   "source": [
    "def psnr(matrix_i, matrix_k):\n",
    "    m, n = matrix.shape()\n",
    "    \n",
    "    mse = 0\n",
    "    for i in range(m-1):\n",
    "        for j in range(n-1):\n",
    "            mse = mse + (matrix_i[i][j] - matrix_k[i][j])**2\n",
    "            \n",
    "    mse = mse/(m*n)\n",
    "    max_number = max(max(matrix_i))\n",
    "    psne = 10*log10(max_number**2 / mse)\n",
    "    \n",
    "    return psne"
   ]
  },
  {
   "cell_type": "code",
   "execution_count": null,
   "metadata": {},
   "outputs": [],
   "source": [
    "def compress_rate(original_image, compressed_image):\n",
    "    pixels_i, pixels_j = original_image.shape\n",
    "    compressed_pixels_i, compressed_pixels_j = compressed_image.shape\n",
    "    \n",
    "    compress_rate =  (compressed_pixels_i*compressed_pixels_j) / (pixels_i*pixels_j)\n",
    "    \n",
    "    return compress_rate"
   ]
  },
  {
   "cell_type": "code",
   "execution_count": 33,
   "metadata": {},
   "outputs": [
    {
     "data": {
      "text/plain": [
       "array([[217, 217, 216, ..., 172, 171, 170],\n",
       "       [218, 217, 216, ..., 176, 175, 175],\n",
       "       [218, 218, 217, ..., 174, 174, 175],\n",
       "       ...,\n",
       "       [171, 173, 173, ..., 192, 193, 192],\n",
       "       [174, 172, 173, ..., 191, 192, 192],\n",
       "       [175, 169, 172, ..., 189, 191, 191]], dtype=uint8)"
      ]
     },
     "execution_count": 33,
     "metadata": {},
     "output_type": "execute_result"
    }
   ],
   "source": [
    "img = cv2.imread('woman-relaxed-work.jpg',0)\n",
    "img"
   ]
  },
  {
   "cell_type": "code",
   "execution_count": null,
   "metadata": {},
   "outputs": [],
   "source": [
    "visualize(img, \"Test image\")"
   ]
  },
  {
   "cell_type": "code",
   "execution_count": 85,
   "metadata": {},
   "outputs": [],
   "source": [
    "def subtract_matrix(image_matrix):\n",
    "    subtract_128 = lambda i: i - 128\n",
    "    vectorized_subtract_128 = numpy.vectorize(subtract_128)\n",
    "    subtracted_image_matrix = vectorized_subtract_128(image_matrix)\n",
    "\n",
    "    return subtracted_image_matrix"
   ]
  },
  {
   "cell_type": "code",
   "execution_count": 86,
   "metadata": {},
   "outputs": [],
   "source": [
    "def add_matrix(image_matrix):\n",
    "    add_128 = lambda i: i + 128\n",
    "    vectorized_add_128 = numpy.vectorize(add_128)\n",
    "    added_image_matrix = vectorized_add_128(image_matrix)\n",
    "\n",
    "    return added_image_matrix"
   ]
  },
  {
   "cell_type": "code",
   "execution_count": 52,
   "metadata": {},
   "outputs": [],
   "source": [
    "quantization_table_1 = numpy.array([[16, 11, 10, 16, 24, 40, 51, 61], [12, 12, 14, 19, 26, 58, 60, 55], [14, 13, 16, 24, 40, 57, 69, 56], [14, 17, 22, 29, 51, 87, 80, 62], [18, 22, 37, 56, 68, 109, 103, 77], [24, 35, 55, 64, 81, 104, 113, 92], [49, 64, 78, 87, 103, 121, 120, 101], [72, 92, 95, 98, 112, 100, 103, 99]])\n",
    "quantization_table_2 = numpy.array([[17, 18, 24, 47, 99, 99, 99, 99], [18, 21, 26, 66, 99, 99, 99, 99], [24, 26, 56, 99, 99, 99, 99, 99], [47, 66, 99, 99, 99, 99, 99, 99], [99, 99, 99, 99, 99, 99, 99, 99], [99, 99, 99, 99, 99, 99, 99, 99], [99, 99, 99, 99, 99, 99, 99, 99], [99, 99, 99, 99, 99, 99, 99, 99]])"
   ]
  },
  {
   "cell_type": "code",
   "execution_count": 36,
   "metadata": {},
   "outputs": [
    {
     "data": {
      "text/plain": [
       "array([[217, 217, 216, ..., 172, 171, 170],\n",
       "       [218, 217, 216, ..., 176, 175, 175],\n",
       "       [218, 218, 217, ..., 174, 174, 175],\n",
       "       ...,\n",
       "       [171, 173, 173, ..., 192, 193, 192],\n",
       "       [174, 172, 173, ..., 191, 192, 192],\n",
       "       [175, 169, 172, ..., 189, 191, 191]], dtype=uint8)"
      ]
     },
     "execution_count": 36,
     "metadata": {},
     "output_type": "execute_result"
    }
   ],
   "source": [
    "image_matrix = numpy.array(img)\n",
    "image_matrix"
   ]
  },
  {
   "cell_type": "code",
   "execution_count": 41,
   "metadata": {},
   "outputs": [
    {
     "name": "stdout",
     "output_type": "stream",
     "text": [
      "2973\n",
      "4460\n",
      "2976\n",
      "4464\n"
     ]
    }
   ],
   "source": [
    "rows, columns = img.shape\n",
    "print(rows)\n",
    "print(columns)\n",
    "if(rows%8!=0):\n",
    "    rows -= rows%8-8\n",
    "if(columns%8!=0):\n",
    "    columns -= columns%8-8\n",
    "print(rows)\n",
    "print(columns)"
   ]
  },
  {
   "cell_type": "code",
   "execution_count": 43,
   "metadata": {},
   "outputs": [
    {
     "data": {
      "text/plain": [
       "array([[217., 217., 216., ...,   0.,   0.,   0.],\n",
       "       [218., 217., 216., ...,   0.,   0.,   0.],\n",
       "       [218., 218., 217., ...,   0.,   0.,   0.],\n",
       "       ...,\n",
       "       [  0.,   0.,   0., ...,   0.,   0.,   0.],\n",
       "       [  0.,   0.,   0., ...,   0.,   0.,   0.],\n",
       "       [  0.,   0.,   0., ...,   0.,   0.,   0.]])"
      ]
     },
     "execution_count": 43,
     "metadata": {},
     "output_type": "execute_result"
    }
   ],
   "source": [
    "def add_padding(image_matrix):\n",
    "    padded = numpy.zeros((rows,columns))\n",
    "    padded[:image_matrix.shape[0],:image_matrix.shape[1]] = image_matrix\n",
    "    \n",
    "    return padded"
   ]
  },
  {
   "cell_type": "code",
   "execution_count": 48,
   "metadata": {},
   "outputs": [],
   "source": [
    "test = numpy.array([[5., 4, 19, 23, 30, 30, 31, 32],[14, 10, 21, 24, 29 ,26, 26, 24],[25, 21, 34, 33, 31, 24, 24, 23],[34, 28, 29, 30, 29, 29, 30, 29],[31, 32, 35, 33, 32, 26, 25, 24],[37, 34, 34, 32, 34, 28, 26, 30],[32, 36, 35, 32, 33, 30, 24, 26],[33, 32, 38, 36, 39, 34, 29, 28]])"
   ]
  },
  {
   "cell_type": "code",
   "execution_count": 88,
   "metadata": {},
   "outputs": [
    {
     "data": {
      "text/plain": [
       "array([[ 2.26375000e+02, -2.22763027e+00, -1.59813578e+01,\n",
       "        -1.86002212e+00,  5.37500000e+00,  1.19277160e+00,\n",
       "         4.86080782e+00,  6.66841638e+00],\n",
       "       [-3.12764223e+01, -2.77037660e+01, -4.80881428e+00,\n",
       "        -7.63792654e-01,  1.93151040e+00,  6.05983991e+00,\n",
       "         1.59681819e+00,  2.62192546e+00],\n",
       "       [-8.63674883e+00, -1.87633787e+01, -7.63280573e+00,\n",
       "         8.95674608e-01, -7.83772805e-01, -1.44134596e+00,\n",
       "         2.19194174e+00,  1.36087726e+00],\n",
       "       [-4.47625429e+00, -6.67853193e+00,  2.72384805e+00,\n",
       "        -2.37324524e-01,  4.99916089e-02, -3.32630505e+00,\n",
       "        -8.31548934e-01, -7.16220918e-01],\n",
       "       [ 3.37500000e+00, -6.98432974e+00,  2.98619396e-01,\n",
       "         1.10872516e+00, -1.12500000e+00,  1.21762875e+00,\n",
       "        -2.58991229e-01, -2.64096283e-01],\n",
       "       [ 2.12049404e+00, -1.52121595e+00,  3.99463762e+00,\n",
       "        -1.01431316e-01, -9.20201241e-01, -6.81200024e-01,\n",
       "         1.93975683e-01, -2.08754168e+00],\n",
       "       [ 5.60694388e+00,  4.25208072e-01, -1.30805826e+00,\n",
       "        -2.32759093e+00,  2.35413470e+00,  1.16337989e+00,\n",
       "         1.38280573e+00,  1.90446500e+00],\n",
       "       [-1.88800478e+00,  4.34679920e+00, -6.48719546e+00,\n",
       "        -4.65083017e+00, -1.86614525e+00, -5.26355787e-01,\n",
       "         1.05800460e-01,  6.22290504e-01]])"
      ]
     },
     "execution_count": 88,
     "metadata": {},
     "output_type": "execute_result"
    }
   ],
   "source": [
    "dct = cv2.dct(test)\n",
    "dct"
   ]
  },
  {
   "cell_type": "code",
   "execution_count": 58,
   "metadata": {},
   "outputs": [
    {
     "data": {
      "text/plain": [
       "array([[ 16,  11,  10,  16,  24,  40,  51,  61],\n",
       "       [ 12,  12,  14,  19,  26,  58,  60,  55],\n",
       "       [ 14,  13,  16,  24,  40,  57,  69,  56],\n",
       "       [ 14,  17,  22,  29,  51,  87,  80,  62],\n",
       "       [ 18,  22,  37,  56,  68, 109, 103,  77],\n",
       "       [ 24,  35,  55,  64,  81, 104, 113,  92],\n",
       "       [ 49,  64,  78,  87, 103, 121, 120, 101],\n",
       "       [ 72,  92,  95,  98, 112, 100, 103,  99]])"
      ]
     },
     "execution_count": 58,
     "metadata": {},
     "output_type": "execute_result"
    }
   ],
   "source": [
    "quantization_table_1"
   ]
  },
  {
   "cell_type": "code",
   "execution_count": 77,
   "metadata": {},
   "outputs": [
    {
     "data": {
      "text/plain": [
       "array([[14., -0., -2., -0.,  0.,  0.,  0.,  0.],\n",
       "       [-3., -2., -0., -0.,  0.,  0.,  0.,  0.],\n",
       "       [-1., -1., -0.,  0., -0., -0.,  0.,  0.],\n",
       "       [-0., -0.,  0., -0.,  0., -0., -0., -0.],\n",
       "       [ 0., -0.,  0.,  0., -0.,  0., -0., -0.],\n",
       "       [ 0., -0.,  0., -0., -0., -0.,  0., -0.],\n",
       "       [ 0.,  0., -0., -0.,  0.,  0.,  0.,  0.],\n",
       "       [-0.,  0., -0., -0., -0., -0.,  0.,  0.]])"
      ]
     },
     "execution_count": 77,
     "metadata": {},
     "output_type": "execute_result"
    }
   ],
   "source": [
    "quantized = numpy.divide(dct, quantization_table_1)\n",
    "quantized = numpy.around(quantized, decimals=0)\n",
    "quantized"
   ]
  },
  {
   "cell_type": "code",
   "execution_count": 79,
   "metadata": {},
   "outputs": [
    {
     "data": {
      "text/plain": [
       "array([[224.,  -0., -20.,  -0.,   0.,   0.,   0.,   0.],\n",
       "       [-36., -24.,  -0.,  -0.,   0.,   0.,   0.,   0.],\n",
       "       [-14., -13.,  -0.,   0.,  -0.,  -0.,   0.,   0.],\n",
       "       [ -0.,  -0.,   0.,  -0.,   0.,  -0.,  -0.,  -0.],\n",
       "       [  0.,  -0.,   0.,   0.,  -0.,   0.,  -0.,  -0.],\n",
       "       [  0.,  -0.,   0.,  -0.,  -0.,  -0.,   0.,  -0.],\n",
       "       [  0.,   0.,  -0.,  -0.,   0.,   0.,   0.,   0.],\n",
       "       [ -0.,   0.,  -0.,  -0.,  -0.,  -0.,   0.,   0.]])"
      ]
     },
     "execution_count": 79,
     "metadata": {},
     "output_type": "execute_result"
    }
   ],
   "source": [
    "dequantized = numpy.multiply(quantized, quantization_table_1)\n",
    "dequantized"
   ]
  },
  {
   "cell_type": "code",
   "execution_count": 81,
   "metadata": {},
   "outputs": [
    {
     "data": {
      "text/plain": [
       "array([[ 7.4888753 , 10.72930861, 15.88729522, 21.00441277, 24.47207307,\n",
       "        25.76235629, 25.50838191, 24.92198089],\n",
       "       [12.38227686, 15.22630972, 19.65184381, 23.81196602, 26.24378203,\n",
       "        26.57706991, 25.59064301, 24.60784154],\n",
       "       [20.09551121, 22.32095336, 25.60348086, 28.27019298, 29.08555357,\n",
       "        27.92543136, 25.79599786, 24.19460569],\n",
       "       [27.57539447, 29.21525539, 31.41576987, 32.66876385, 31.95392694,\n",
       "        29.38008659, 26.16864007, 23.98166667],\n",
       "       [32.35458948, 33.6448899 , 35.19950079, 35.60858107, 33.98029855,\n",
       "        30.5625445 , 26.70519439, 24.16866049],\n",
       "       [33.70550712, 34.93548518, 36.37863489, 36.64208411, 34.85617169,\n",
       "        31.29278658, 27.32397529, 24.72711903],\n",
       "       [32.75107516, 34.10529074, 35.77800143, 36.34138653, 34.88012236,\n",
       "        31.61667314, 27.87742283, 25.40480408],\n",
       "       [31.5155111 , 32.9985851 , 34.90939511, 35.78387197, 34.65933109,\n",
       "        31.70697362, 28.20582263, 25.86206231]])"
      ]
     },
     "execution_count": 81,
     "metadata": {},
     "output_type": "execute_result"
    }
   ],
   "source": [
    "inverse_dct = cv2.idct(dequantized)\n",
    "inverse_dct"
   ]
  },
  {
   "cell_type": "code",
   "execution_count": 87,
   "metadata": {},
   "outputs": [
    {
     "data": {
      "text/plain": [
       "array([[135., 139., 144., 149., 152., 154., 154., 153.],\n",
       "       [140., 143., 148., 152., 154., 155., 154., 153.],\n",
       "       [148., 150., 154., 156., 157., 156., 154., 152.],\n",
       "       [156., 157., 159., 161., 160., 157., 154., 152.],\n",
       "       [160., 162., 163., 164., 162., 159., 155., 152.],\n",
       "       [162., 163., 164., 165., 163., 159., 155., 153.],\n",
       "       [161., 162., 164., 164., 163., 160., 156., 153.],\n",
       "       [160., 161., 163., 164., 163., 160., 156., 154.]])"
      ]
     },
     "execution_count": 87,
     "metadata": {},
     "output_type": "execute_result"
    }
   ],
   "source": [
    "decodified = add_matrix(inverse_dct)\n",
    "decodified = numpy.around(decodified, decimals=0)\n",
    "decodified"
   ]
  },
  {
   "cell_type": "code",
   "execution_count": 21,
   "metadata": {},
   "outputs": [
    {
     "data": {
      "text/plain": [
       "array([[217, 217, 216, ..., 172, 171, 170],\n",
       "       [218, 217, 216, ..., 176, 175, 175],\n",
       "       [218, 218, 217, ..., 174, 174, 175],\n",
       "       ...,\n",
       "       [171, 173, 173, ..., 192, 193, 192],\n",
       "       [174, 172, 173, ..., 191, 192, 192],\n",
       "       [175, 169, 172, ..., 189, 191, 191]], dtype=uint8)"
      ]
     },
     "execution_count": 21,
     "metadata": {},
     "output_type": "execute_result"
    }
   ],
   "source": [
    "# load"
   ]
  },
  {
   "cell_type": "code",
   "execution_count": 22,
   "metadata": {},
   "outputs": [
    {
     "data": {
      "text/plain": [
       "True"
      ]
     },
     "execution_count": 22,
     "metadata": {},
     "output_type": "execute_result"
    },
    {
     "data": {
      "image/png": "[encoded data removed]",
      "text/plain": [
       "<Figure size 432x288 with 2 Axes>"
      ]
     },
     "metadata": {
      "needs_background": "light"
     },
     "output_type": "display_data"
    }
   ],
   "source": [
    "# visualize"
   ]
  },
  {
   "cell_type": "code",
   "execution_count": 28,
   "metadata": {},
   "outputs": [],
   "source": [
    "# divide"
   ]
  },
  {
   "cell_type": "code",
   "execution_count": 26,
   "metadata": {},
   "outputs": [
    {
     "data": {
      "text/plain": [
       "array([[89, 89, 88, ..., 44, 43, 42],\n",
       "       [90, 89, 88, ..., 48, 47, 47],\n",
       "       [90, 90, 89, ..., 46, 46, 47],\n",
       "       ...,\n",
       "       [43, 45, 45, ..., 64, 65, 64],\n",
       "       [46, 44, 45, ..., 63, 64, 64],\n",
       "       [47, 41, 44, ..., 61, 63, 63]])"
      ]
     },
     "execution_count": 26,
     "metadata": {},
     "output_type": "execute_result"
    }
   ],
   "source": [
    "# compress"
   ]
  },
  {
   "cell_type": "code",
   "execution_count": null,
   "metadata": {},
   "outputs": [],
   "source": [
    "# save"
   ]
  },
  {
   "cell_type": "code",
   "execution_count": null,
   "metadata": {},
   "outputs": [],
   "source": [
    "# visualize"
   ]
  },
  {
   "cell_type": "code",
   "execution_count": null,
   "metadata": {},
   "outputs": [],
   "source": [
    "# decompress"
   ]
  },
  {
   "cell_type": "code",
   "execution_count": null,
   "metadata": {},
   "outputs": [],
   "source": [
    "# visualize"
   ]
  },
  {
   "cell_type": "code",
   "execution_count": null,
   "metadata": {},
   "outputs": [],
   "source": [
    "# psnr and compress rate"
   ]
  },
  {
   "cell_type": "code",
   "execution_count": null,
   "metadata": {},
   "outputs": [],
   "source": [
    "# final comparisson\n",
    "\n",
    "figure = plt.figure()\n",
    "\n",
    "ax = figure.add_subplot(1, 3, 1)\n",
    "image_plot = plt.imshow(original_image)\n",
    "ax.set_title(\"Before codification\")\n",
    "\n",
    "ax = figure.add_subplot(1, 3, 3)\n",
    "image_plot = plt.imshow(decodified_image)\n",
    "ax.set_title(\"Decodified image\")"
   ]
  }
 ],
 "metadata": {
  "kernelspec": {
   "display_name": "Python 3",
   "language": "python",
   "name": "python3"
  },
  "language_info": {
   "codemirror_mode": {
    "name": "ipython",
    "version": 3
   },
   "file_extension": ".py",
   "mimetype": "text/x-python",
   "name": "python",
   "nbconvert_exporter": "python",
   "pygments_lexer": "ipython3",
   "version": "3.8.5"
  }
 },
 "nbformat": 4,
 "nbformat_minor": 4
}
