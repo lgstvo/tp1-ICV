{
 "cells": [
  {
   "cell_type": "markdown",
   "metadata": {},
   "source": [
    "# Trabalho Prático 1\n",
    "### Matéria: Introdução a Computação Visual\n",
    "### Alunos: Luís Gustavo Costa da Silva, Matheus Marchesotti Dutra Ferraz\n",
    "### Matrículas:"
   ]
  },
  {
   "cell_type": "markdown",
   "metadata": {},
   "source": [
    " #### *Descrição*\n",
    "O objetivo do trabalho a seguir é codificar, salvar, decodificar e reconstruir certa imagem dada pelo usuário. O método de codificação usado foi o algoritmo de Huffman."
   ]
  },
  {
   "cell_type": "code",
   "execution_count": null,
   "metadata": {},
   "outputs": [],
   "source": [
    "import numpy as np\n",
    "import cv2\n",
    "import matplotlib.pyplot as plt\n",
    "from math import log10\n",
    "import json\n",
    "import re\n",
    "import struct"
   ]
  },
  {
   "cell_type": "code",
   "execution_count": null,
   "metadata": {},
   "outputs": [],
   "source": [
    "def visualize(image_matrix, title):\n",
    "    plt.title(title)\n",
    "    image_plot = plt.imshow(image_matrix, cmap ='Greys_r')\n",
    "    plt.colorbar()\n",
    "    return"
   ]
  },
  {
   "cell_type": "code",
   "execution_count": null,
   "metadata": {},
   "outputs": [],
   "source": [
    "def psnr(matrix_i, matrix_k):\n",
    "    m, n = matrix_i.shape\n",
    "    matrix_i = matrix_i.astype('float64')\n",
    "    matrix_k = matrix_k.astype('float64')\n",
    "    \n",
    "    mse = 0\n",
    "    for i in range(m-1):\n",
    "        for j in range(n-1):\n",
    "            mse = mse + (matrix_i[i][j] - matrix_k[i][j])**2\n",
    "            \n",
    "    mse = mse/(m*n)\n",
    "    max_number = np.amax(matrix_i)\n",
    "    psne = 10*log10(max_number**2 / mse)\n",
    "    \n",
    "    return psne"
   ]
  },
  {
   "cell_type": "code",
   "execution_count": null,
   "metadata": {},
   "outputs": [],
   "source": [
    "def compress_rate(original_image, bits_string):\n",
    "    pixels_i, pixels_j = original_image.shape\n",
    "    \n",
    "    bits_original_image = pixels_i*pixels_j * 8\n",
    "    \n",
    "    \n",
    "    compress_rate =  bits_original_image / len(bits_string)\n",
    "    \n",
    "    return compress_rate"
   ]
  },
  {
   "cell_type": "code",
   "execution_count": null,
   "metadata": {},
   "outputs": [],
   "source": [
    "def subtract_matrix(image_matrix):\n",
    "    subtract_128 = lambda i: i - 128\n",
    "    vectorized_subtract_128 = np.vectorize(subtract_128)\n",
    "    subtracted_image_matrix = vectorized_subtract_128(image_matrix)\n",
    "\n",
    "    return subtracted_image_matrix"
   ]
  },
  {
   "cell_type": "code",
   "execution_count": null,
   "metadata": {},
   "outputs": [],
   "source": [
    "def add_matrix(image_matrix):\n",
    "    add_128 = lambda i: i + 128\n",
    "    vectorized_add_128 = np.vectorize(add_128)\n",
    "    added_image_matrix = vectorized_add_128(image_matrix)\n",
    "\n",
    "    return added_image_matrix"
   ]
  },
  {
   "cell_type": "code",
   "execution_count": null,
   "metadata": {},
   "outputs": [],
   "source": [
    "def add_padding(image_matrix):\n",
    "    rows, columns = image_matrix.shape\n",
    "\n",
    "    if(rows%8!=0):\n",
    "        rows -= rows%8-8\n",
    "    if(columns%8!=0):\n",
    "        columns -= columns%8-8\n",
    "        \n",
    "    padded_image = np.zeros((rows,columns))\n",
    "    padded_image[:image_matrix.shape[0],:image_matrix.shape[1]] = image_matrix\n",
    "    \n",
    "    return padded_image"
   ]
  },
  {
   "cell_type": "code",
   "execution_count": null,
   "metadata": {},
   "outputs": [],
   "source": [
    "def remove_padding(image_matrix):\n",
    "    rows, columns = original_image.shape\n",
    "    \n",
    "    unpadded_image = image_matrix[:rows, :columns]\n",
    "    \n",
    "    return unpadded_image"
   ]
  },
  {
   "cell_type": "code",
   "execution_count": null,
   "metadata": {},
   "outputs": [],
   "source": [
    "def compress(image_matrix, quantization_table):\n",
    "    padded_matrix = add_padding(image_matrix)\n",
    "    codified_matrix = np.zeros(padded_matrix.shape, dtype=int)\n",
    "\n",
    "    rows, columns = padded_matrix.shape\n",
    "    \n",
    "    for r in range(0, rows, 8):\n",
    "        for c in range(0, columns, 8):\n",
    "            submatrix = padded_matrix[r:r+8, c:c+8]\n",
    "\n",
    "            subtracted = subtract_matrix(submatrix)\n",
    "\n",
    "            dct = cv2.dct(subtracted)\n",
    "\n",
    "            quantized = np.divide(dct, quantization_table)\n",
    "            quantized = np.around(quantized, decimals=0)\n",
    "\n",
    "            codified_matrix[r:r+8, c:c+8] = quantized\n",
    "            \n",
    "    return codified_matrix"
   ]
  },
  {
   "cell_type": "code",
   "execution_count": null,
   "metadata": {},
   "outputs": [],
   "source": [
    "class HuffmanTree():\n",
    "    \n",
    "    def __init__(self, root=None, left=None, right=None):\n",
    "        self.root = root\n",
    "        self.left = left\n",
    "        self.right = right\n",
    "        \n",
    "    def getRight(self):\n",
    "        return self.right\n",
    "    \n",
    "    def getLeft(self):\n",
    "        return self.left\n",
    "    \n",
    "    def getRoot(self):\n",
    "        return self.root"
   ]
  },
  {
   "cell_type": "code",
   "execution_count": null,
   "metadata": {},
   "outputs": [],
   "source": [
    "def computeHuffman(HuffmanTree, binaryString=''):\n",
    "        \n",
    "        if type(HuffmanTree) == str:\n",
    "            return {HuffmanTree: binaryString}\n",
    "        \n",
    "        leftChild, rightChild = HuffmanTree.getLeft(), HuffmanTree.getRight()\n",
    "        catalog = {}\n",
    "        catalog.update(computeHuffman(leftChild, binaryString + '0'))\n",
    "        catalog.update(computeHuffman(rightChild, binaryString + '1'))\n",
    "        \n",
    "        return catalog"
   ]
  },
  {
   "cell_type": "code",
   "execution_count": null,
   "metadata": {},
   "outputs": [],
   "source": [
    "def calculateFrequency(matrix):\n",
    "    \n",
    "    codeArray = matrix.reshape(-1)\n",
    "    frequency = {}\n",
    "    \n",
    "    for item in codeArray:\n",
    "        item = str(item)\n",
    "        if item in frequency:\n",
    "            frequency[item] += 1\n",
    "        else:\n",
    "            frequency[item] = 1\n",
    "            \n",
    "    for key in frequency:\n",
    "        frequency[key] = float(frequency[key])/len(codeArray)\n",
    "        \n",
    "    frequency_sorted = sorted(frequency.items(), key=lambda pairs:pairs[1], reverse=True)\n",
    "    return frequency_sorted"
   ]
  },
  {
   "cell_type": "code",
   "execution_count": null,
   "metadata": {},
   "outputs": [],
   "source": [
    "def codificate(probabilityList):\n",
    "    \n",
    "    while len(probabilityList) > 1:\n",
    "        \n",
    "        (symbol_1, probability_1) = probabilityList[-1]\n",
    "        (symbol_2, probability_2) = probabilityList[-2]\n",
    "        \n",
    "        probabilityList = probabilityList[:-2]\n",
    "        \n",
    "        HuffmanRoot = HuffmanTree(None, symbol_1, symbol_2)\n",
    "        probabilityList.append((HuffmanRoot, probability_1+probability_2))\n",
    "        \n",
    "        probabilityList = sorted(probabilityList, key=lambda pairs:pairs[1], reverse=True)\n",
    "        \n",
    "    huffmanCode = computeHuffman(probabilityList[0][0])\n",
    "    \n",
    "    return huffmanCode"
   ]
  },
  {
   "cell_type": "code",
   "execution_count": null,
   "metadata": {},
   "outputs": [],
   "source": [
    "def decompress(codified_matrix, quantization_table):\n",
    "    \n",
    "    decodified_image = np.zeros(codified_matrix.shape)\n",
    "\n",
    "    rows, columns = decodified_image.shape\n",
    "    for r in range(0, rows, 8):\n",
    "        for c in range(0, columns, 8):\n",
    "            submatrix = codified_matrix[r:r+8, c:c+8]\n",
    "            submatrix = submatrix.astype(np.float64)\n",
    "            \n",
    "            dequantized = np.multiply(submatrix, quantization_table)\n",
    "\n",
    "            inverse_dct = cv2.idct(dequantized)\n",
    "\n",
    "            decodified = add_matrix(inverse_dct)\n",
    "            decodified = np.around(decodified, decimals=0)\n",
    "\n",
    "            decodified_image[r:r+8, c:c+8] = decodified\n",
    "\n",
    "    decodified_image = remove_padding(decodified_image)\n",
    "    \n",
    "    if(decodified_image.min()<0):\n",
    "        decodified_image -= -decodified_image.min()\n",
    "    if(decodified_image.max()>255):\n",
    "        decodified_image *= 255.0/decodified_image.max()\n",
    "        \n",
    "    decodified_image = np.around(decodified_image, decimals=0)\n",
    "    decodified_image = decodified_image.astype(int)\n",
    "    \n",
    "    return decodified_image"
   ]
  },
  {
   "cell_type": "markdown",
   "metadata": {},
   "source": [
    "Essa matriz de quantização possui resultados bons em sua tarefa, sendo comprovadamente eficiente para quantizar matrizes."
   ]
  },
  {
   "cell_type": "code",
   "execution_count": null,
   "metadata": {},
   "outputs": [],
   "source": [
    "quantization_table_1 = np.array(\n",
    "    [\n",
    "        [16, 11, 10, 16, 24, 40, 51, 61],\n",
    "        [12, 12, 14, 19, 26, 58, 60, 55],\n",
    "        [14, 13, 16, 24, 40, 57, 69, 56],\n",
    "        [14, 17, 22, 29, 51, 87, 80, 62],\n",
    "        [18, 22, 37, 56, 68, 109, 103, 77],\n",
    "        [24, 35, 55, 64, 81, 104, 113, 92],\n",
    "        [49, 64, 78, 87, 103, 121, 120, 101],\n",
    "        [72, 92, 95, 98, 112, 100, 103, 99]]\n",
    ")"
   ]
  },
  {
   "cell_type": "markdown",
   "metadata": {},
   "source": [
    "## Carregamento da imagem\n",
    "Primeiramente, se carrega a imagem e a visualiza. A imagem escolhida para testes foi a seguinte:\n",
    "\n",
    "![Imagem de testes](https://www.datocms-assets.com/22581/1603896191-woman-relaxed-work.jpg?dpr=0.75&fit=max&fm=jpg&w=1800)\n",
    "\n"
   ]
  },
  {
   "cell_type": "code",
   "execution_count": null,
   "metadata": {},
   "outputs": [],
   "source": [
    "input_image = input(\"Endereço da Imagem: \")\n",
    "\n",
    "if input_image == '':\n",
    "    input_image = 'woman-relaxed-work.jpg'"
   ]
  },
  {
   "cell_type": "code",
   "execution_count": null,
   "metadata": {},
   "outputs": [],
   "source": [
    "# load\n",
    "original_image = cv2.imread(input_image,0)\n",
    "original_image"
   ]
  },
  {
   "cell_type": "code",
   "execution_count": null,
   "metadata": {},
   "outputs": [],
   "source": [
    "# visualize\n",
    "visualize(original_image, \"Original image\")"
   ]
  },
  {
   "cell_type": "markdown",
   "metadata": {},
   "source": [
    "Em seguida, se aplica a transformada do cosseno, usando a matriz de quantização inicializada anteriormente, para gerar uma matriz intermediária, que será codificada usando o algoritmo de Huffman."
   ]
  },
  {
   "cell_type": "code",
   "execution_count": null,
   "metadata": {},
   "outputs": [],
   "source": [
    "# compress\n",
    "compressed_image = compress(original_image, quantization_table_1)"
   ]
  },
  {
   "cell_type": "code",
   "execution_count": null,
   "metadata": {},
   "outputs": [],
   "source": [
    "# codificate\n",
    "frequency_matrix = calculateFrequency(compressed_image)\n",
    "huffman_code = codificate(frequency_matrix)"
   ]
  },
  {
   "cell_type": "markdown",
   "metadata": {},
   "source": [
    "Então, usa-se a árvore gerada pela codificação para formar uma string com todos os pixels codificados."
   ]
  },
  {
   "cell_type": "code",
   "execution_count": null,
   "metadata": {},
   "outputs": [],
   "source": [
    "codified_string = ''\n",
    "for line in compressed_image:\n",
    "        for key in line:\n",
    "            codified_string += huffman_code[str(key)]"
   ]
  },
  {
   "cell_type": "markdown",
   "metadata": {},
   "source": [
    "A imagem codificada foi salva em 2 arquivos, sendo o primeiro huffman.txt usado para salvar o dicionário da codificação de huffman, enquanto o segundo foi usado para salvar os bytes da string. Essa metodologia de 2 arquivos foi escolhida pois o dicionário e os bytes consistem em tipos de dados diferentes, impossibilitando a escrita no mesmo arquivo."
   ]
  },
  {
   "cell_type": "code",
   "execution_count": null,
   "metadata": {},
   "outputs": [],
   "source": [
    "# save\n",
    "with open('huffman.txt','w') as huffman:\n",
    "    huffman.write(str(compressed_image.shape))\n",
    "    huffman.write(json.dumps(huffman_code))\n",
    "\n",
    "missing = 32-len(codified_string)%32\n",
    "for i in range(missing):\n",
    "    codified_string += '0'\n",
    "        \n",
    "with open('bytes.txt','wb') as bytes_file:\n",
    "    for index in range(0, len(codified_string), 32):\n",
    "        byt = int(codified_string[index:index+32][::-1], 2).to_bytes(4, 'little')\n",
    "        bytes_file.write(byt)"
   ]
  },
  {
   "cell_type": "markdown",
   "metadata": {},
   "source": [
    "Abre-se os arquivos salvos acima e os formata, preparando-os para uso. As chaves e valores do dicionário de huffman são trocados, assim facilitando a decodificação da string de binários."
   ]
  },
  {
   "cell_type": "code",
   "execution_count": null,
   "metadata": {},
   "outputs": [],
   "source": [
    "#read\n",
    "\n",
    "with open('huffman.txt', 'r') as huffman:\n",
    "    data = huffman.read()\n",
    "    \n",
    "    match = re.search(\"\\(.+\\)\", data)\n",
    "    shape = match.group()\n",
    "    \n",
    "    data = data[len(shape):]\n",
    "\n",
    "    shape = shape[1:-1]\n",
    "    shape = shape.split(\",\")\n",
    "    shape[0] = int(shape[0])\n",
    "    shape[1] = int(shape[1])\n",
    "    shape = tuple(shape)\n",
    "    \n",
    "    dictionary = json.loads(data)\n",
    "    inverted_dictionary = {v: k for k, v in dictionary.items()}\n",
    "    \n",
    "read_string = ''\n",
    "    \n",
    "with open('bytes.txt','rb') as bytes_file:\n",
    "    byte = bytes_file.read(4)\n",
    "    while byte:\n",
    "        integer = int.from_bytes(byte, \"little\")\n",
    "        \n",
    "        binary = \"{0:b}\".format(integer)        \n",
    "        while(len(binary)<32):\n",
    "            binary = '0' + binary\n",
    "            \n",
    "        read_string += binary[::-1]\n",
    "        \n",
    "        byte = bytes_file.read(4)"
   ]
  },
  {
   "cell_type": "code",
   "execution_count": null,
   "metadata": {},
   "outputs": [],
   "source": [
    "decodified_matrix = np.zeros(shape)"
   ]
  },
  {
   "cell_type": "markdown",
   "metadata": {},
   "source": [
    "Em seguida, lê-se linearmente a string, procurando correspondência com as chaves do dicionário invertido, decodificando a string e restaurando uma matriz quantizada."
   ]
  },
  {
   "cell_type": "code",
   "execution_count": null,
   "metadata": {},
   "outputs": [],
   "source": [
    "row = 0\n",
    "column = 0\n",
    "\n",
    "key_test = ''\n",
    "\n",
    "for bit in range(len(read_string)):\n",
    "    key_test += str(read_string[bit])\n",
    "    if(key_test in inverted_dictionary.keys()):\n",
    "        decodified_matrix[row, column] = inverted_dictionary[key_test]\n",
    "        key_test = ''\n",
    "        column += 1\n",
    "        if(column==shape[1]):\n",
    "            column = 0\n",
    "            row +=1\n",
    "            if(row==shape[0]):\n",
    "                break"
   ]
  },
  {
   "cell_type": "markdown",
   "metadata": {},
   "source": [
    "Visualização das matriz quantizada antes e depois da codificação:"
   ]
  },
  {
   "cell_type": "code",
   "execution_count": null,
   "metadata": {},
   "outputs": [],
   "source": [
    "print(\"Pré codificação:\\n\", compressed_image, decodified_matrix.shape)\n",
    "print()\n",
    "print(\"Pós decodificação:\\n\", decodified_matrix, decodified_matrix.shape)"
   ]
  },
  {
   "cell_type": "markdown",
   "metadata": {},
   "source": [
    "Aplica-se a transformada do cosseno inversa para obter a imagem reconstruida, pós codificação."
   ]
  },
  {
   "cell_type": "code",
   "execution_count": null,
   "metadata": {},
   "outputs": [],
   "source": [
    "# decompress\n",
    "decodified_image = decompress(decodified_matrix, quantization_table_1)"
   ]
  },
  {
   "cell_type": "code",
   "execution_count": null,
   "metadata": {},
   "outputs": [],
   "source": [
    "# visualize\n",
    "visualize(decodified_image, 'Decodified matrix')"
   ]
  },
  {
   "cell_type": "code",
   "execution_count": null,
   "metadata": {},
   "outputs": [],
   "source": [
    "# final comparisson\n",
    "\n",
    "figure = plt.figure(figsize=(30,30))\n",
    "\n",
    "ax = figure.add_subplot(1, 2, 1)\n",
    "image_plot = plt.imshow(original_image, cmap = 'Greys_r')\n",
    "ax.set_title(\"Before codification\", fontsize=28)\n",
    "\n",
    "ax = figure.add_subplot(1, 2, 2)\n",
    "image_plot = plt.imshow(decodified_image, cmap = 'Greys_r')\n",
    "ax.set_title(\"Decodified image\", fontsize=28)"
   ]
  },
  {
   "cell_type": "markdown",
   "metadata": {},
   "source": [
    "Por fim, o PSNR e a taxa de compressão de bits da imagem."
   ]
  },
  {
   "cell_type": "code",
   "execution_count": null,
   "metadata": {},
   "outputs": [],
   "source": [
    "# psnr and compress rate\n",
    "psnr_result = psnr(original_image, decodified_image)\n",
    "cr_result = compress_rate(original_image, read_string)\n",
    "\n",
    "print(\"PSNR: \", psnr_result)\n",
    "print(\"Compress Rate (bitwise): \", cr_result)"
   ]
  }
 ],
 "metadata": {
  "kernelspec": {
   "display_name": "Python 3",
   "language": "python",
   "name": "python3"
  },
  "language_info": {
   "codemirror_mode": {
    "name": "ipython",
    "version": 3
   },
   "file_extension": ".py",
   "mimetype": "text/x-python",
   "name": "python",
   "nbconvert_exporter": "python",
   "pygments_lexer": "ipython3",
   "version": "3.8.5"
  }
 },
 "nbformat": 4,
 "nbformat_minor": 4
}
